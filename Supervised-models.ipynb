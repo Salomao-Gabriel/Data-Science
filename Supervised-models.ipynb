{
 "cells": [
  {
   "cell_type": "code",
   "execution_count": 1,
   "id": "04643f4c",
   "metadata": {},
   "outputs": [
    {
     "name": "stdout",
     "output_type": "stream",
     "text": [
      "Accuracy: 1.00\n"
     ]
    }
   ],
   "source": [
    "from sklearn.datasets import load_iris\n",
    "from sklearn.model_selection import train_test_split\n",
    "from sklearn.tree import DecisionTreeClassifier\n",
    "from sklearn.metrics import accuracy_score\n",
    "\n",
    "# Load Iris dataset\n",
    "iris = load_iris()\n",
    "X, y = iris.data, iris.target\n",
    "\n",
    "# Split the dataset into training and testing sets\n",
    "X_train, X_test, y_train, y_test = train_test_split(X, y, test_size=0.3, random_state=42)\n",
    "\n",
    "# Create a Classification Tree and fit it to the training data\n",
    "clf = DecisionTreeClassifier(criterion='gini', max_depth=None, random_state=42)\n",
    "clf.fit(X_train, y_train)\n",
    "\n",
    "# Make predictions on the testing set\n",
    "y_pred = clf.predict(X_test)\n",
    "\n",
    "# Evaluate the model's accuracy\n",
    "accuracy = accuracy_score(y_test, y_pred)\n",
    "print(f'Accuracy: {accuracy:.2f}')\n"
   ]
  },
  {
   "cell_type": "code",
   "execution_count": 2,
   "id": "eea4e576",
   "metadata": {},
   "outputs": [
    {
     "name": "stdout",
     "output_type": "stream",
     "text": [
      "Accuracy: 0.70\n",
      "\n",
      "Classification Report:\n",
      "               precision    recall  f1-score   support\n",
      "\n",
      "           0       0.81      0.71      0.76       151\n",
      "           1       0.56      0.69      0.61        80\n",
      "\n",
      "    accuracy                           0.70       231\n",
      "   macro avg       0.68      0.70      0.69       231\n",
      "weighted avg       0.72      0.70      0.71       231\n",
      "\n"
     ]
    }
   ],
   "source": [
    "import pandas as pd\n",
    "from sklearn.model_selection import train_test_split\n",
    "from sklearn.tree import DecisionTreeClassifier\n",
    "from sklearn.metrics import classification_report, accuracy_score\n",
    "\n",
    "# Load the Pima Indians Diabetes dataset\n",
    "url = \"https://raw.githubusercontent.com/jbrownlee/Datasets/master/pima-indians-diabetes.data.csv\"\n",
    "column_names = ['Pregnancies', 'Glucose', 'BloodPressure', 'SkinThickness', 'Insulin', 'BMI', 'DiabetesPedigreeFunction', 'Age', 'Outcome']\n",
    "data = pd.read_csv(url, header=None, names=column_names)\n",
    "\n",
    "# Split the dataset into features (X) and target (y)\n",
    "X = data.drop('Outcome', axis=1)\n",
    "y = data['Outcome']\n",
    "\n",
    "# Split the dataset into training and testing sets\n",
    "X_train, X_test, y_train, y_test = train_test_split(X, y, test_size=0.3, random_state=42)\n",
    "\n",
    "# Create a Classification Tree and fit it to the training data\n",
    "clf = DecisionTreeClassifier(criterion='gini', max_depth=None, random_state=42)\n",
    "clf.fit(X_train, y_train)\n",
    "\n",
    "# Make predictions on the testing set\n",
    "y_pred = clf.predict(X_test)\n",
    "\n",
    "# Evaluate the model's accuracy and classification report\n",
    "accuracy = accuracy_score(y_test, y_pred)\n",
    "print(f'Accuracy: {accuracy:.2f}')\n",
    "print(\"\\nClassification Report:\\n\", classification_report(y_test, y_pred))\n"
   ]
  },
  {
   "cell_type": "code",
   "execution_count": 5,
   "id": "b5492c5b",
   "metadata": {},
   "outputs": [
    {
     "name": "stdout",
     "output_type": "stream",
     "text": [
      "Mean Squared Error: 0.53\n",
      "Root Mean Squared Error: 0.73\n",
      "R^2 Score: 0.60\n"
     ]
    }
   ],
   "source": [
    "import numpy as np\n",
    "from sklearn.datasets import fetch_california_housing\n",
    "from sklearn.model_selection import train_test_split\n",
    "from sklearn.tree import DecisionTreeRegressor\n",
    "from sklearn.metrics import mean_squared_error, r2_score\n",
    "\n",
    "# Load the California Housing dataset\n",
    "housing = fetch_california_housing()\n",
    "X, y = housing.data, housing.target\n",
    "\n",
    "# Split the dataset into training and testing sets\n",
    "X_train, X_test, y_train, y_test = train_test_split(X, y, test_size=0.3, random_state=42)\n",
    "\n",
    "# Create a Regression Tree and fit it to the training data\n",
    "regressor = DecisionTreeRegressor(criterion='squared_error', max_depth=None, random_state=42)\n",
    "regressor.fit(X_train, y_train)\n",
    "\n",
    "# Make predictions on the testing set\n",
    "y_pred = regressor.predict(X_test)\n",
    "\n",
    "# Evaluate the model's performance\n",
    "mse = mean_squared_error(y_test, y_pred)\n",
    "rmse = np.sqrt(mse)\n",
    "r2 = r2_score(y_test, y_pred)\n",
    "\n",
    "print(f'Mean Squared Error: {mse:.2f}')\n",
    "print(f'Root Mean Squared Error: {rmse:.2f}')\n",
    "print(f'R^2 Score: {r2:.2f}')\n"
   ]
  },
  {
   "cell_type": "code",
   "execution_count": 12,
   "id": "d94c3f63",
   "metadata": {},
   "outputs": [
    {
     "name": "stdout",
     "output_type": "stream",
     "text": [
      "Bagging: Mean Squared Error: 0.26, Root Mean Squared Error: 0.51, R^2 Score: 0.80\n",
      "Random Forest: Mean Squared Error: 0.26, Root Mean Squared Error: 0.51, R^2 Score: 0.80\n"
     ]
    }
   ],
   "source": [
    "import numpy as np\n",
    "from sklearn.datasets import fetch_california_housing\n",
    "from sklearn.model_selection import train_test_split\n",
    "from sklearn.tree import DecisionTreeRegressor\n",
    "from sklearn.ensemble import BaggingRegressor, RandomForestRegressor\n",
    "from sklearn.metrics import mean_squared_error, r2_score\n",
    "\n",
    "# Load the California Housing dataset\n",
    "housing = fetch_california_housing()\n",
    "X, y = housing.data, housing.target\n",
    "\n",
    "# Split the dataset into training and testing sets\n",
    "X_train, X_test, y_train, y_test = train_test_split(X, y, test_size=0.3, random_state=42)\n",
    "\n",
    "# Train a Bagging ensemble with DecisionTreeRegressor as the base estimator\n",
    "bagging = BaggingRegressor(DecisionTreeRegressor(random_state=42), n_estimators=100, random_state=42)\n",
    "bagging.fit(X_train, y_train)\n",
    "y_pred_bagging = bagging.predict(X_test)\n",
    "\n",
    "# Train a Random Forest model\n",
    "random_forest = RandomForestRegressor(n_estimators=100, random_state=42)\n",
    "random_forest.fit(X_train, y_train)\n",
    "y_pred_rf = random_forest.predict(X_test)\n",
    "\n",
    "# Evaluate the models' performance\n",
    "mse_bagging = mean_squared_error(y_test, y_pred_bagging)\n",
    "rmse_bagging = np.sqrt(mse_bagging)\n",
    "r2_bagging = r2_score(y_test, y_pred_bagging)\n",
    "\n",
    "mse_rf = mean_squared_error(y_test, y_pred_rf)\n",
    "rmse_rf = np.sqrt(mse_rf)\n",
    "r2_rf = r2_score(y_test, y_pred_rf)\n",
    "\n",
    "print(f'Bagging: Mean Squared Error: {mse_bagging:.2f}, Root Mean Squared Error: {rmse_bagging:.2f}, R^2 Score: {r2_bagging:.2f}')\n",
    "print(f'Random Forest: Mean Squared Error: {mse_rf:.2f}, Root Mean Squared Error: {rmse_rf:.2f}, R^2 Score: {r2_rf:.2f}')\n"
   ]
  },
  {
   "cell_type": "code",
   "execution_count": 13,
   "id": "6bdd0b5b",
   "metadata": {},
   "outputs": [
    {
     "name": "stdout",
     "output_type": "stream",
     "text": [
      "Gradient Boosting: Mean Squared Error: 0.29, Root Mean Squared Error: 0.54, R^2 Score: 0.78\n"
     ]
    }
   ],
   "source": [
    "import numpy as np\n",
    "from sklearn.datasets import fetch_california_housing\n",
    "from sklearn.model_selection import train_test_split\n",
    "from sklearn.ensemble import GradientBoostingRegressor\n",
    "from sklearn.metrics import mean_squared_error, r2_score\n",
    "\n",
    "# Load the California Housing dataset\n",
    "housing = fetch_california_housing()\n",
    "X, y = housing.data, housing.target\n",
    "\n",
    "# Split the dataset into training and testing sets\n",
    "X_train, X_test, y_train, y_test = train_test_split(X, y, test_size=0.3, random_state=42)\n",
    "\n",
    "# Train a Gradient Boosting model\n",
    "gbm = GradientBoostingRegressor(n_estimators=100, learning_rate=0.1, max_depth=3, random_state=42)\n",
    "gbm.fit(X_train, y_train)\n",
    "\n",
    "# Make predictions on the testing set\n",
    "y_pred_gbm = gbm.predict(X_test)\n",
    "\n",
    "# Evaluate the model's performance\n",
    "mse_gbm = mean_squared_error(y_test, y_pred_gbm)\n",
    "rmse_gbm = np.sqrt(mse_gbm)\n",
    "r2_gbm = r2_score(y_test, y_pred_gbm)\n",
    "\n",
    "print(f'Gradient Boosting: Mean Squared Error: {mse_gbm:.2f}, Root Mean Squared Error: {rmse_gbm:.2f}, R^2 Score: {r2_gbm:.2f}')\n"
   ]
  },
  {
   "cell_type": "code",
   "execution_count": 14,
   "id": "e6bff5b7",
   "metadata": {},
   "outputs": [
    {
     "name": "stdout",
     "output_type": "stream",
     "text": [
      "Multi-Layer Perceptron: Mean Squared Error: 0.26, Root Mean Squared Error: 0.51, R^2 Score: 0.80\n"
     ]
    }
   ],
   "source": [
    "import numpy as np\n",
    "from sklearn.datasets import fetch_california_housing\n",
    "from sklearn.model_selection import train_test_split\n",
    "from sklearn.neural_network import MLPRegressor\n",
    "from sklearn.metrics import mean_squared_error, r2_score\n",
    "from sklearn.preprocessing import StandardScaler\n",
    "\n",
    "# Load the California Housing dataset\n",
    "housing = fetch_california_housing()\n",
    "X, y = housing.data, housing.target\n",
    "\n",
    "# Split the dataset into training and testing sets\n",
    "X_train, X_test, y_train, y_test = train_test_split(X, y, test_size=0.3, random_state=42)\n",
    "\n",
    "# Standardize the data (important for neural networks)\n",
    "scaler = StandardScaler()\n",
    "X_train_scaled = scaler.fit_transform(X_train)\n",
    "X_test_scaled = scaler.transform(X_test)\n",
    "\n",
    "# Train a Multi-Layer Perceptron\n",
    "mlp = MLPRegressor(hidden_layer_sizes=(64, 32), activation='relu', solver='adam', random_state=42)\n",
    "mlp.fit(X_train_scaled, y_train)\n",
    "\n",
    "# Make predictions on the testing set\n",
    "y_pred_mlp = mlp.predict(X_test_scaled)\n",
    "\n",
    "# Evaluate the model's performance\n",
    "mse_mlp = mean_squared_error(y_test, y_pred_mlp)\n",
    "rmse_mlp = np.sqrt(mse_mlp)\n",
    "r2_mlp = r2_score(y_test, y_pred_mlp)\n",
    "\n",
    "print(f'Multi-Layer Perceptron: Mean Squared Error: {mse_mlp:.2f}, Root Mean Squared Error: {rmse_mlp:.2f}, R^2 Score: {r2_mlp:.2f}')\n"
   ]
  },
  {
   "cell_type": "code",
   "execution_count": 15,
   "id": "c572efd3",
   "metadata": {},
   "outputs": [
    {
     "name": "stdout",
     "output_type": "stream",
     "text": [
      "Bagging predictions: [0.47841   0.73213   4.8208461 2.61201   2.30565  ]\n",
      "Random Forest predictions: [0.47809   0.74566   4.8298161 2.61482   2.3314   ]\n",
      "Gradient Boosting predictions: [0.549768   0.97830362 4.0455572  2.61149449 2.26133023]\n",
      "Multi-Layer Perceptron predictions: [0.46894938 1.05460817 4.80313622 2.61902577 2.30838916]\n",
      "Actual values: [0.477   0.458   5.00001 2.186   2.78   ]\n"
     ]
    }
   ],
   "source": [
    "# Predict the first five samples in the test set\n",
    "X_test_sample = X_test[:5]\n",
    "X_test_scaled_sample = X_test_scaled[:5]\n",
    "\n",
    "# Bagging\n",
    "y_pred_bagging_sample = bagging.predict(X_test_sample)\n",
    "print(\"Bagging predictions:\", y_pred_bagging_sample)\n",
    "\n",
    "# Random Forest\n",
    "y_pred_rf_sample = random_forest.predict(X_test_sample)\n",
    "print(\"Random Forest predictions:\", y_pred_rf_sample)\n",
    "\n",
    "# Gradient Boosting\n",
    "y_pred_gbm_sample = gbm.predict(X_test_sample)\n",
    "print(\"Gradient Boosting predictions:\", y_pred_gbm_sample)\n",
    "\n",
    "# Multi-Layer Perceptron\n",
    "y_pred_mlp_sample = mlp.predict(X_test_scaled_sample)\n",
    "print(\"Multi-Layer Perceptron predictions:\", y_pred_mlp_sample)\n",
    "\n",
    "# Actual values\n",
    "print(\"Actual values:\", y_test[:5])\n"
   ]
  },
  {
   "cell_type": "code",
   "execution_count": null,
   "id": "be90a2f7",
   "metadata": {},
   "outputs": [],
   "source": []
  }
 ],
 "metadata": {
  "kernelspec": {
   "display_name": "Python 3 (ipykernel)",
   "language": "python",
   "name": "python3"
  },
  "language_info": {
   "codemirror_mode": {
    "name": "ipython",
    "version": 3
   },
   "file_extension": ".py",
   "mimetype": "text/x-python",
   "name": "python",
   "nbconvert_exporter": "python",
   "pygments_lexer": "ipython3",
   "version": "3.10.9"
  }
 },
 "nbformat": 4,
 "nbformat_minor": 5
}
